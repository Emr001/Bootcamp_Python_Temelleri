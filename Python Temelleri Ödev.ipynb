{
 "cells": [
  {
   "cell_type": "markdown",
   "metadata": {},
   "source": [
    "Problem 1-2"
   ]
  },
  {
   "cell_type": "code",
   "execution_count": 6,
   "metadata": {},
   "outputs": [
    {
     "name": "stdout",
     "output_type": "stream",
     "text": [
      "\n",
      "*********************\n",
      "Bitcoin 2017 Analizi:\n",
      "*********************\n",
      "\n",
      "\n",
      "Hafta başında 1000 dolarlık bitcoin aldığımızda günde\n",
      "ortalama % 12 kazançla, bir hafta sonunda 1210.68 dolar kazanırdık\n",
      "\n"
     ]
    }
   ],
   "source": [
    "print(\"\"\"\n",
    "*********************\n",
    "Bitcoin 2017 Analizi:\n",
    "*********************\n",
    "\"\"\")\n",
    "\n",
    "faiz_yüzdesi = 12\n",
    "yatırım = 1000\n",
    "süre = 7\n",
    "faiz = 0\n",
    "\n",
    "faiz = (yatırım*(1+12/100)**7)-yatırım\n",
    "\n",
    "\n",
    "\n",
    "\n",
    "print(\"\"\"\n",
    "Hafta başında {} dolarlık bitcoin aldığımızda günde\n",
    "ortalama % {} kazançla, bir hafta sonunda {:.2f} dolar kazanırdık\n",
    "\"\"\".format(yatırım,faiz_yüzdesi,faiz))"
   ]
  },
  {
   "cell_type": "markdown",
   "metadata": {},
   "source": [
    "Problem 3"
   ]
  },
  {
   "cell_type": "code",
   "execution_count": 3,
   "metadata": {},
   "outputs": [
    {
     "name": "stdout",
     "output_type": "stream",
     "text": [
      "Dosyanın adını giriniz:odevler\n",
      "odevler .py\n"
     ]
    }
   ],
   "source": [
    "dosya_adı = input(\"Dosyanın adını giriniz:\")\n",
    "print(dosya_adı,\".py\")"
   ]
  },
  {
   "cell_type": "code",
   "execution_count": null,
   "metadata": {},
   "outputs": [],
   "source": []
  }
 ],
 "metadata": {
  "kernelspec": {
   "display_name": "Python 3",
   "language": "python",
   "name": "python3"
  },
  "language_info": {
   "codemirror_mode": {
    "name": "ipython",
    "version": 3
   },
   "file_extension": ".py",
   "mimetype": "text/x-python",
   "name": "python",
   "nbconvert_exporter": "python",
   "pygments_lexer": "ipython3",
   "version": "3.8.5"
  }
 },
 "nbformat": 4,
 "nbformat_minor": 4
}
